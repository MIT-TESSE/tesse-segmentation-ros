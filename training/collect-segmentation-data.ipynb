{
 "cells": [
  {
   "cell_type": "markdown",
   "metadata": {},
   "source": [
    "### Disclaimer\n",
    "Distribution authorized to U.S. Government agencies and their contractors. Other requests for this document shall be referred to the MIT Lincoln Laboratory Technology Office.\n",
    "\n",
    "This material is based upon work supported by the Under Secretary of Defense for Research and Engineering under Air Force Contract No. FA8702-15-D-0001. Any opinions, findings, conclusions or recommendations expressed in this material are those of the author(s) and do not necessarily reflect the views of the Under Secretary of Defense for Research and Engineering.\n",
    "\n",
    "© 2019 Massachusetts Institute of Technology.\n",
    "\n",
    "The software/firmware is provided to you on an As-Is basis\n",
    "\n",
    "Delivered to the U.S. Government with Unlimited Rights, as defined in DFARS Part 252.227-7013 or 7014 (Feb 2014). Notwithstanding any copyright notice, U.S. Government rights in this work are defined by DFARS 252.227-7013 or DFARS 252.227-7014 as detailed above. Use of this work other than as specifically authorized by the U.S. Government may violate any copyrights that exist in this work."
   ]
  },
  {
   "cell_type": "markdown",
   "metadata": {},
   "source": [
    "# Collect semantic segmentation training data\n",
    "\n",
    "\n",
    "### Contents\n",
    "- [Configure Environments](#Configure-Environments)\n",
    "- [Create Data Directory](#Create-Data-Directory)\n",
    "- [Collect Images](#Collect-Images)"
   ]
  },
  {
   "cell_type": "code",
   "execution_count": null,
   "metadata": {},
   "outputs": [],
   "source": [
    "from gym import spaces\n",
    "from stable_baselines.common.vec_env import SubprocVecEnv, DummyVecEnv\n",
    "import time\n",
    "from pathlib import Path\n",
    "import matplotlib.pyplot as plt\n",
    "\n",
    "from tesse.msgs import *\n",
    "\n",
    "%load_ext autoreload\n",
    "%autoreload 2\n",
    "from tesse_semantic_segmentation.data import RGBSegmentationEnv\n",
    "from tesse_gym.core.utils import set_all_camera_params, get_network_config"
   ]
  },
  {
   "cell_type": "markdown",
   "metadata": {},
   "source": [
    "# Configure Environments"
   ]
  },
  {
   "cell_type": "code",
   "execution_count": null,
   "metadata": {},
   "outputs": [],
   "source": [
    "filename = Path(\"/home/za27933/tess/goseek-challenge/simulator/goseek-v0.1.0.x86_64\")\n",
    "assert filename.exists(), \"Give valid file path!\"\n",
    "\n",
    "total_timesteps = 10000\n",
    "scene_id = [1, 2, 3, 4, 5]\n",
    "n_target_types = 5\n",
    "n_targets = [10] * len(scene_id)\n",
    "n_environments = len(scene_id)\n",
    "\n",
    "\n",
    "def make_unity_env(filename, num_env):\n",
    "    \"\"\" Create a wrapped Unity environment. \"\"\"\n",
    "\n",
    "    def make_env(rank):\n",
    "        def _thunk():\n",
    "            env = RGBSegmentationEnv(\n",
    "                str(filename),\n",
    "                network_config=get_network_config(worker_id=rank),\n",
    "                n_targets=n_targets[rank],\n",
    "                scene_id=scene_id[rank],\n",
    "                n_target_types=n_target_types,\n",
    "                init_hook=set_all_camera_params,\n",
    "                step_rate=20\n",
    "            )\n",
    "            return env\n",
    "\n",
    "        return _thunk\n",
    "\n",
    "    return SubprocVecEnv([make_env(i) for i in range(num_env)])"
   ]
  },
  {
   "cell_type": "code",
   "execution_count": null,
   "metadata": {},
   "outputs": [],
   "source": [
    "env = make_unity_env(filename, n_environments)"
   ]
  },
  {
   "cell_type": "markdown",
   "metadata": {},
   "source": [
    "# Create Data Directory \n",
    "\n",
    "Data will be saved in the following stucture \n",
    "```\n",
    "- dataset_root \n",
    "    \\- rgb \n",
    "        \\- img_1.png\n",
    "         - img_2.png\n",
    "         ...\n",
    "         - img_n.png\n",
    "    \\- segmentation\n",
    "        \\- img_1.png\n",
    "         - img_2.png\n",
    "         ...\n",
    "         - img_n.png\n",
    "```"
   ]
  },
  {
   "cell_type": "code",
   "execution_count": null,
   "metadata": {},
   "outputs": [],
   "source": [
    "dataset_root = \"goseek-v0.1.0-v2\"\n",
    "\n",
    "rgb_data_dir = Path(f\"./data/{dataset_root}/rgb\")\n",
    "rgb_data_dir.mkdir(exist_ok=True, parents=True)\n",
    "\n",
    "segmentation_data_dir = Path(f\"./data/{dataset_root}/segmentation\")\n",
    "segmentation_data_dir.mkdir(exist_ok=True, parents=True)"
   ]
  },
  {
   "cell_type": "markdown",
   "metadata": {},
   "source": [
    "# Collect Images "
   ]
  },
  {
   "cell_type": "code",
   "execution_count": null,
   "metadata": {},
   "outputs": [],
   "source": [
    "for i in range(total_timesteps):\n",
    "    obs = env.reset()\n",
    "\n",
    "    for j in range(obs.shape[0]):\n",
    "        rgb = obs[j, ..., :3].astype(np.uint8)\n",
    "        seg = obs[j, ..., 3:].astype(np.uint8)\n",
    "\n",
    "        plt.imsave(rgb_data_dir / f\"img_{i}_scene_{j}.png\", rgb)\n",
    "        plt.imsave(segmentation_data_dir / f\"img_{i}_scene_{j}.png\", seg)"
   ]
  },
  {
   "cell_type": "code",
   "execution_count": null,
   "metadata": {},
   "outputs": [],
   "source": []
  }
 ],
 "metadata": {
  "kernelspec": {
   "display_name": "Python [conda env:tesse-semantic-segmentation]",
   "language": "python",
   "name": "conda-env-tesse-semantic-segmentation-py"
  },
  "language_info": {
   "codemirror_mode": {
    "name": "ipython",
    "version": 3
   },
   "file_extension": ".py",
   "mimetype": "text/x-python",
   "name": "python",
   "nbconvert_exporter": "python",
   "pygments_lexer": "ipython3",
   "version": "3.7.6"
  }
 },
 "nbformat": 4,
 "nbformat_minor": 2
}
